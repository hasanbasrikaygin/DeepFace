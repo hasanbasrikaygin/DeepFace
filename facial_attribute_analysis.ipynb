{
 "cells": [
  {
   "cell_type": "code",
   "execution_count": 1,
   "id": "cd58aa41",
   "metadata": {},
   "outputs": [
    {
     "name": "stderr",
     "output_type": "stream",
     "text": [
      "Action: race: 100%|██████████| 4/4 [00:05<00:00,  1.37s/it]   \n"
     ]
    },
    {
     "name": "stdout",
     "output_type": "stream",
     "text": [
      "neutral\n"
     ]
    },
    {
     "name": "stderr",
     "output_type": "stream",
     "text": [
      "Action: race: 100%|██████████| 4/4 [00:01<00:00,  2.12it/s]   \n"
     ]
    },
    {
     "name": "stdout",
     "output_type": "stream",
     "text": [
      "{'emotion': {'angry': 0.015437966259689854, 'disgust': 1.7757638196953464e-06, 'fear': 0.007973855574686784, 'happy': 0.1499717795273232, 'sad': 1.7153819182742784, 'surprise': 0.06591072116818852, 'neutral': 98.04531920226331}, 'dominant_emotion': 'neutral', 'region': {'x': 263, 'y': 161, 'w': 269, 'h': 269}, 'age': 30, 'gender': 'Man', 'race': {'asian': 8.497301489114761, 'indian': 8.912193775177002, 'black': 5.358981713652611, 'white': 27.684101462364197, 'middle eastern': 23.277215659618378, 'latino hispanic': 26.270204782485962}, 'dominant_race': 'white'}\n"
     ]
    },
    {
     "name": "stderr",
     "output_type": "stream",
     "text": [
      "Action: race: 100%|██████████| 4/4 [00:01<00:00,  2.51it/s]   \n",
      "Action: race: 100%|██████████| 4/4 [00:01<00:00,  2.66it/s]   \n"
     ]
    },
    {
     "name": "stdout",
     "output_type": "stream",
     "text": [
      "neutral\n"
     ]
    },
    {
     "name": "stderr",
     "output_type": "stream",
     "text": [
      "Action: race: 100%|██████████| 4/4 [00:01<00:00,  2.66it/s]   \n"
     ]
    },
    {
     "name": "stdout",
     "output_type": "stream",
     "text": [
      "{'emotion': {'angry': 3.396954217371596, 'disgust': 0.07512891181581687, 'fear': 31.585978364108705, 'happy': 5.738827555705759, 'sad': 19.810411024714174, 'surprise': 4.908545980366825, 'neutral': 34.48415604139304}, 'dominant_emotion': 'neutral', 'region': {'x': 232, 'y': 182, 'w': 237, 'h': 237}, 'age': 31, 'gender': 'Man', 'race': {'asian': 8.072856813669205, 'indian': 9.19726938009262, 'black': 3.021734207868576, 'white': 26.707375049591064, 'middle eastern': 20.19333392381668, 'latino hispanic': 32.807427644729614}, 'dominant_race': 'latino hispanic'}\n"
     ]
    },
    {
     "name": "stderr",
     "output_type": "stream",
     "text": [
      "Action: race: 100%|██████████| 4/4 [00:01<00:00,  2.48it/s]   \n",
      "Action: race: 100%|██████████| 4/4 [00:01<00:00,  2.74it/s]   \n"
     ]
    },
    {
     "name": "stdout",
     "output_type": "stream",
     "text": [
      "happy\n"
     ]
    },
    {
     "name": "stderr",
     "output_type": "stream",
     "text": [
      "Action: race: 100%|██████████| 4/4 [00:01<00:00,  2.63it/s]   \n"
     ]
    },
    {
     "name": "stdout",
     "output_type": "stream",
     "text": [
      "{'emotion': {'angry': 0.004145469080544969, 'disgust': 6.688054867560275e-08, 'fear': 0.010442929698205553, 'happy': 92.74565663985531, 'sad': 0.504919174472192, 'surprise': 1.2373288549686843, 'neutral': 5.4975037428732225}, 'dominant_emotion': 'happy', 'region': {'x': 262, 'y': 200, 'w': 253, 'h': 253}, 'age': 26, 'gender': 'Man', 'race': {'asian': 8.26365202665329, 'indian': 8.020974695682526, 'black': 3.0347997322678566, 'white': 32.761940360069275, 'middle eastern': 23.228922486305237, 'latino hispanic': 24.689708650112152}, 'dominant_race': 'white'}\n"
     ]
    },
    {
     "name": "stderr",
     "output_type": "stream",
     "text": [
      "Action: race: 100%|██████████| 4/4 [00:01<00:00,  2.09it/s]   \n",
      "Action: race: 100%|██████████| 4/4 [00:01<00:00,  2.25it/s]   \n"
     ]
    },
    {
     "name": "stdout",
     "output_type": "stream",
     "text": [
      "happy\n"
     ]
    },
    {
     "name": "stderr",
     "output_type": "stream",
     "text": [
      "Action: race: 100%|██████████| 4/4 [00:01<00:00,  2.23it/s]   \n"
     ]
    },
    {
     "name": "stdout",
     "output_type": "stream",
     "text": [
      "{'emotion': {'angry': 0.008287784294225276, 'disgust': 8.466560230679931e-08, 'fear': 0.0030370563763426617, 'happy': 78.29278111457825, 'sad': 0.07959262584336102, 'surprise': 0.026007674750871956, 'neutral': 21.590299904346466}, 'dominant_emotion': 'happy', 'region': {'x': 249, 'y': 185, 'w': 255, 'h': 255}, 'age': 26, 'gender': 'Man', 'race': {'asian': 6.167209520936012, 'indian': 10.68379282951355, 'black': 2.788076177239418, 'white': 27.06095278263092, 'middle eastern': 28.45434844493866, 'latino hispanic': 24.845625460147858}, 'dominant_race': 'middle eastern'}\n"
     ]
    },
    {
     "data": {
      "text/plain": [
       "'\\ndict ={}\\ndict[\"fear\"] = liste.count(\"fear\")\\ndict[\"disgust\"] = liste.count(\"disgust\")\\ndict[\"happy\"] = liste.count(\"happy\")\\ndict[\"angry\"] = liste.count(\"angry\")\\ndict[\"sad\"] = liste.count(\"sad\")\\ndict[\"surprise\"] = liste.count(\"surprise\")\\ndict[\"neutral\"] = liste.count(\"neutral\")\\n\\n#elde edilen duygular coktan aza dogru siralanir\\ns = sorted(dict.items(), key=lambda x: x[1], reverse=True)\\n\\nfor i in s:\\n    print(\"{} {}\".format(i[0], i[1]))\\n'"
      ]
     },
     "execution_count": 1,
     "metadata": {},
     "output_type": "execute_result"
    }
   ],
   "source": [
    "#proje anakonda - jupyter notebook ortaminda gelistirilmistir\n",
    "#program calismasi icin bu dosya ile ayni dizinde \n",
    "#haarcascade_frontalface_default.xml dosyasinin bulunmasi gerekmektedir \n",
    "#indirme linki : https://github.com/opencv/opencv/tree/4.x/data/haarcascades\n",
    "#gerekli kurulumlar\n",
    "#pip install opencv-python\n",
    "#pip install deepface\n",
    "\n",
    "import cv2 \n",
    "from deepface import DeepFace\n",
    "\n",
    "#yuz algilama icin hazir veri tabaninin kullanimi\n",
    "faceCascade = cv2.CascadeClassifier(cv2.data.haarcascades + 'haarcascade_frontalface_default.xml')\n",
    "\n",
    "#webcam'i açmak için\n",
    "cap = cv2.VideoCapture(0)\n",
    "#Webcamin doğru acilip acilmadigini kontrol\n",
    "if not cap.isOpened():\n",
    "    cap = cv2.VideoCapture(0)\n",
    "    \n",
    "if not cap.isOpened():\n",
    "    raise IOError(\"Cannot open webcam\")\n",
    "\n",
    "# baskin duygu  kayıt dizisi\n",
    "\"\"\"\n",
    "liste=[]   \n",
    "\n",
    "pozitif=['Forrest Gump','Her Şey Çok Güzel Olacak','It’s a Wonderful Life -Şahane Hayat'] \n",
    "huzunlu=['My Sisters Keeper - Kız Kardeşimin Hikayesi','Marriage Story - Evlilik Hikayesi','Lion'] \n",
    "korku=['Karadedeler Olayı','Ölü İkizler','Şeytanı Gördüm'] \n",
    "gerilim=['Old ','Blood Red Sky','Jolt ']\n",
    "komedi=['Hannah Gadsby: Nanette ','3 Idiots','Deadpool ']\n",
    "aksiyon=['Spartacus','Marvel’s The Punisher','Titans ']\n",
    "suc=['Kara Şövalye','Baba','12 Öfkeli Adam ']\n",
    "\"\"\"\n",
    "a=0\n",
    "while True:\n",
    "    ret,frame = cap.read()\n",
    "    #read fonksiyonu her çalıştığında o anki frame alınır\n",
    "    \n",
    "    result = DeepFace.analyze(frame, actions = ['emotion'],enforce_detection=False)\n",
    "    #result degiskenine o anki frame de bulunan duyguyu actions = ['emotion'] ile atıyoruz\n",
    "    #enforce_detection=False ile uygulama kamerada yuz algilamasa\n",
    "    #bile calismasina devam etmesini  sagliyoruz\n",
    "    demography = DeepFace.analyze(frame,enforce_detection=False)\n",
    "    print(demography['dominant_emotion'])\n",
    "    #dominant emotion ile de baskin olan duyguyu kullanabiliyoruz\n",
    "    #konsola o anki baskın olan duyguyu yazdiriyoruz\n",
    "    \n",
    "    demography2 = DeepFace.analyze(frame,enforce_detection=False)\n",
    "    print(demography2)\n",
    "    \n",
    "    \"\"\"liste.append(demography['dominant_emotion'])\"\"\"\n",
    "    #baskin duygulari listemize ekliyoruz\n",
    "    \n",
    "    a+=1\n",
    "    if a==4:\n",
    "          break\n",
    "    #if blooğu ile döngünün 4 kez calıitiktan sonra bitmesini sagliyoruz\n",
    "    gray = cv2.cvtColor(frame, cv2.COLOR_BGR2GRAY)\n",
    "    #goruntu renk donusumu yapilir\n",
    "    faces = faceCascade.detectMultiScale(gray, 1.1, 4)\n",
    "    \n",
    "    #Yüzün etrafına koordinatlar ile dikdörtgen cizimi\n",
    "    for(x, y, w, h)in faces:\n",
    "        cv2.rectangle(frame, (x, y), (x+w, y+h), (0, 255, 0), 2)\n",
    "        \n",
    "     #dörtgenin kenarina yazilan duygu yazisi fontu \n",
    "    font =cv2.FONT_HERSHEY_SIMPLEX\n",
    "     \n",
    "    \n",
    "    #dörtgenin kenarinda baskin duygunun gosterimi\n",
    "    #yazi ozellikleri renk - boyut \n",
    "    #uygulama peceresi BBYT Proje yazimi \n",
    "    cv2.putText(frame,\n",
    "               demography['dominant_emotion'],\n",
    "               (50, 50),\n",
    "               font, 3,\n",
    "               (0, 0, 255),\n",
    "               2,\n",
    "               cv2.LINE_4)\n",
    "    cv2.imshow('BBYT Proje',frame)\n",
    "    \n",
    "    \n",
    "    #istenildiginde q tusu yardimyla kamera kapatilip uygulama sonlandirilir\n",
    "    if cv2.waitKey(1) & 0xFF == ord('q'):\n",
    "        break\n",
    " \n",
    "cap.release()\n",
    "#diğer uygulamaların kullanımı için kamerayı serbest bırakıyoruz\n",
    "cv2.destroyAllWindows()\n",
    "#Açılan tüm pencereleri kapatıyoruz\n",
    "\"\"\"print(liste) \"\"\"   \n",
    "\n",
    "#hangi duygudan kac defa elde edildigi hesaplanir\n",
    "\"\"\"\n",
    "dict ={}\n",
    "dict[\"fear\"] = liste.count(\"fear\")\n",
    "dict[\"disgust\"] = liste.count(\"disgust\")\n",
    "dict[\"happy\"] = liste.count(\"happy\")\n",
    "dict[\"angry\"] = liste.count(\"angry\")\n",
    "dict[\"sad\"] = liste.count(\"sad\")\n",
    "dict[\"surprise\"] = liste.count(\"surprise\")\n",
    "dict[\"neutral\"] = liste.count(\"neutral\")\n",
    "\n",
    "#elde edilen duygular coktan aza dogru siralanir\n",
    "s = sorted(dict.items(), key=lambda x: x[1], reverse=True)\n",
    "\n",
    "for i in s:\n",
    "    print(\"{} {}\".format(i[0], i[1]))\n",
    "\"\"\""
   ]
  },
  {
   "cell_type": "code",
   "execution_count": 28,
   "id": "1a17deb0",
   "metadata": {},
   "outputs": [
    {
     "name": "stdout",
     "output_type": "stream",
     "text": [
      "happy\n"
     ]
    }
   ],
   "source": [
    "\"\"\" #en çok elde edilen baskin duygu\n",
    "print (s[0][0])\"\"\""
   ]
  },
  {
   "cell_type": "code",
   "execution_count": 29,
   "id": "68b629fe",
   "metadata": {},
   "outputs": [
    {
     "name": "stdout",
     "output_type": "stream",
     "text": [
      "Pozitif film önerisi:  ['Forrest Gump', 'Her Şey Çok Güzel Olacak', 'It’s a Wonderful Life -Şahane Hayat']\n"
     ]
    }
   ],
   "source": [
    "\"\"\"#duyguya gore film onerisi\n",
    "if s[0][0] =='happy':\n",
    "    print(\"Pozitif film önerisi: \",pozitif)\n",
    "if s[0][0] == 'fear':\n",
    "    print(\"Korku filmi önerisi: \",korku)\n",
    "if s[0][0] == 'disgust':\n",
    "    print(\"Komedi filmi önerisi: \",komedi)\n",
    "if s[0][0] == 'angry':\n",
    "    print(\"Aksiyon filmi önerisi: \",aksiyon)\n",
    "if s[0][0] == 'sad':\n",
    "    print(\"Üzgün film önerisi: \",huzunlu)\n",
    "if s[0][0] == 'neutral':\n",
    "    print(\"Gerilim filmi önerisi: \",gerilim)  \n",
    "if s[0][0] == 'surprise':\n",
    "    print(\"Suç filmi önerisi: \",suc)\n",
    "\"\"\""
   ]
  },
  {
   "cell_type": "code",
   "execution_count": null,
   "id": "bb46ae36",
   "metadata": {},
   "outputs": [],
   "source": []
  }
 ],
 "metadata": {
  "kernelspec": {
   "display_name": "Python 3 (ipykernel)",
   "language": "python",
   "name": "python3"
  },
  "language_info": {
   "codemirror_mode": {
    "name": "ipython",
    "version": 3
   },
   "file_extension": ".py",
   "mimetype": "text/x-python",
   "name": "python",
   "nbconvert_exporter": "python",
   "pygments_lexer": "ipython3",
   "version": "3.9.7"
  }
 },
 "nbformat": 4,
 "nbformat_minor": 5
}
